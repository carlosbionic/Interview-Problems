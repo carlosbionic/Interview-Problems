{
 "cells": [
  {
   "cell_type": "code",
   "execution_count": 20,
   "metadata": {},
   "outputs": [],
   "source": [
    "import numpy as np"
   ]
  },
  {
   "cell_type": "code",
   "execution_count": 33,
   "metadata": {},
   "outputs": [],
   "source": [
    "def busca(x,k):\n",
    "    arr=np.sort(x)\n",
    "    if arr[-1]-arr[0]<=k:\n",
    "        return arr[-1]-arr[0]\n",
    "    elif arr[-1]-arr[0]>=4*k:\n",
    "        return arr[-1]-k-(arr[0]+k)\n",
    "    elif arr[-1]-arr[0]<4*k and arr[-1]-arr[0]>k:\n",
    "        medio = int((arr[-1]+arr[0])/2)\n",
    "        for i in range(len(arr)):\n",
    "            if arr[i]<medio:\n",
    "                arr[i]=arr[i]+k\n",
    "            else:\n",
    "                arr[i]=arr[i]-k\n",
    "        return np.amax(arr)-np.amin(arr)"
   ]
  },
  {
   "cell_type": "code",
   "execution_count": 22,
   "metadata": {},
   "outputs": [],
   "source": [
    "import itertools\n",
    "def getMinDiff(arr,k):\n",
    "\tn = len(arr)\n",
    "\n",
    "\tcomb = list(itertools.product([k,-k], repeat=n))\n",
    "\n",
    "\tauxlist = [sum(x) for x in zip(comb[0], arr)]\n",
    "\tdif = max(auxlist)-min(auxlist)\n",
    "\tresult, resultarr = dif, auxlist\n",
    "\t#resultarr = auxlist\n",
    "\n",
    "\tfor i in range(1,2**n):\n",
    "\n",
    "\t\tauxlist = [sum(x) for x in zip(comb[i],arr)]\n",
    "\t\tdifnew = max(auxlist)-min(auxlist)\n",
    "\n",
    "\t\tif difnew<dif: \n",
    "\t\t\tresult, resultarr = difnew, auxlist\n",
    "\t\t\t#resultarr = auxlist\n",
    "\t\t\tdif = difnew\n",
    "\n",
    "\treturn(result,resultarr)"
   ]
  },
  {
   "cell_type": "code",
   "execution_count": 34,
   "metadata": {},
   "outputs": [
    {
     "name": "stdout",
     "output_type": "stream",
     "text": [
      "(4, [4, 7, 7, 6, 3])\n",
      "4\n"
     ]
    }
   ],
   "source": [
    "arr = [1 ,4, 10, 3, 6]\n",
    "k = 3\n",
    "\n",
    "print(getMinDiff(arr,k))\n",
    "print(busca(arr,k))"
   ]
  },
  {
   "cell_type": "code",
   "execution_count": null,
   "metadata": {},
   "outputs": [],
   "source": []
  }
 ],
 "metadata": {
  "kernelspec": {
   "display_name": "Python 3",
   "language": "python",
   "name": "python3"
  },
  "language_info": {
   "codemirror_mode": {
    "name": "ipython",
    "version": 3
   },
   "file_extension": ".py",
   "mimetype": "text/x-python",
   "name": "python",
   "nbconvert_exporter": "python",
   "pygments_lexer": "ipython3",
   "version": "3.5.2"
  }
 },
 "nbformat": 4,
 "nbformat_minor": 2
}
