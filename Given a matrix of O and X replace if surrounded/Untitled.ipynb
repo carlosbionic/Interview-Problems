{
 "cells": [
  {
   "cell_type": "code",
   "execution_count": 95,
   "metadata": {},
   "outputs": [],
   "source": [
    "def floodFillUtil(screen, x, y, prevC, newC):\n",
    "\n",
    "    n = len(screen)    # Rows \n",
    "    m = len(screen[0]) # Columns\n",
    "    \n",
    "    # If x or y is outside screen, return\n",
    "    if (x < 0 or x > n-1 or y < 0 or y > m-1):\n",
    "        return screen\n",
    "\n",
    "    # If color of screen[x][y] != as prevC, return\n",
    "    if (screen[x][y] != prevC):\n",
    "        return screen\n",
    "    \n",
    "    if (prevC == newC):\n",
    "        return screen\n",
    "\n",
    "    screen[x][y] = newC\n",
    "\n",
    "    floodFillUtil(screen, x+1, y, prevC, newC)\n",
    "    floodFillUtil(screen, x-1, y, prevC, newC)\n",
    "    floodFillUtil(screen, x, y+1, prevC, newC)\n",
    "    floodFillUtil(screen, x, y-1, prevC, newC)\n",
    "    \n",
    "    return screen\n",
    "    \n",
    "def floodFill(screen, x, y, newC):\n",
    "    \n",
    "    prevC = screen[x][y]\n",
    "    return floodFillUtil(screen, x, y, prevC, newC)"
   ]
  },
  {
   "cell_type": "code",
   "execution_count": 76,
   "metadata": {},
   "outputs": [
    {
     "data": {
      "text/plain": [
       "[[1, 1, 1, 1, 1, 1, 1, 1],\n",
       " [1, 1, 1, 1, 1, 1, 0, 0],\n",
       " [1, 0, 0, 1, 1, 0, 1, 1],\n",
       " [1, 2, 2, 2, 2, 0, 1, 3],\n",
       " [1, 1, 1, 2, 2, 0, 1, 3],\n",
       " [1, 1, 1, 2, 2, 2, 2, 3],\n",
       " [1, 1, 1, 1, 1, 2, 1, 1],\n",
       " [1, 1, 1, 1, 1, 2, 2, 1]]"
      ]
     },
     "execution_count": 76,
     "metadata": {},
     "output_type": "execute_result"
    }
   ],
   "source": [
    "screen = [[1, 1, 1, 1, 1, 1, 1, 1],\n",
    "          [1, 1, 1, 1, 1, 1, 0, 0],\n",
    "          [1, 0, 0, 1, 1, 0, 1, 1],\n",
    "          [1, 2, 2, 2, 2, 0, 1, 0],\n",
    "          [1, 1, 1, 2, 2, 0, 1, 0],\n",
    "          [1, 1, 1, 2, 2, 2, 2, 0],\n",
    "          [1, 1, 1, 1, 1, 2, 1, 1],\n",
    "          [1, 1, 1, 1, 1, 2, 2, 1],]\n",
    "\n",
    "x = 3\n",
    "y = 7\n",
    "newC = 3\n",
    "screen=(floodFill(screen, x, y, newC))\n",
    "screen\n"
   ]
  },
  {
   "cell_type": "code",
   "execution_count": 107,
   "metadata": {},
   "outputs": [],
   "source": [
    "def surr(mat):\n",
    "\n",
    "    n = len(mat) #Filas\n",
    "    m = len(mat[0]) #Columnas\n",
    "\n",
    "    for i in range(n):\n",
    "        for j in range(m):\n",
    "            if mat[i][j] == 'O': mat[i][j] = '-'\n",
    "                \n",
    "    for j in range(m):\n",
    "        if mat[0][j] == '-': mat = floodFill(mat, 0, j, 'O')\n",
    "        \n",
    "    for i in range(n):\n",
    "        if mat[i][m-1] == '-': mat = floodFill(mat, i, m-1, 'O')\n",
    "        \n",
    "    for j in range(m):\n",
    "        if mat[n-1][j] == '-': mat = floodFill(mat, n-1, j, 'O')\n",
    "\n",
    "    for i in range(n):\n",
    "        if mat[i][0] == '-': mat = floodFill(mat, i, 0, 'O')\n",
    "            \n",
    "    for i in range(n):\n",
    "        for j in range(m):\n",
    "            if mat[i][j] == '-': mat[i][j] = 'X'\n",
    "\n",
    "    return mat"
   ]
  },
  {
   "cell_type": "code",
   "execution_count": 110,
   "metadata": {},
   "outputs": [
    {
     "data": {
      "text/plain": [
       "[['X', 'O', 'X', 'X', 'X', 'X'],\n",
       " ['X', 'O', 'X', 'X', 'X', 'X'],\n",
       " ['X', 'X', 'X', 'X', 'X', 'X'],\n",
       " ['O', 'X', 'X', 'X', 'X', 'X'],\n",
       " ['X', 'X', 'X', 'O', 'X', 'O'],\n",
       " ['O', 'O', 'X', 'O', 'O', 'O']]"
      ]
     },
     "execution_count": 110,
     "metadata": {},
     "output_type": "execute_result"
    }
   ],
   "source": [
    "mat = [['X','O','X','X','X','X'],\n",
    "       ['X','O','X','X','O','X'],\n",
    "       ['X','X','X','O','O','X'],\n",
    "       ['O','X','X','X','X','X'],\n",
    "       ['X','X','X','O','X','O'],\n",
    "       ['O','O','X','O','O','O']]\n",
    "\n",
    "mat2 = [['X','X','X','X'],\n",
    "        ['X','O','X','X'],\n",
    "        ['X','O','O','X'],\n",
    "        ['X','O','X','X'],\n",
    "        ['X','X','O','O']]\n",
    "\n",
    "surr(mat)\n"
   ]
  },
  {
   "cell_type": "code",
   "execution_count": null,
   "metadata": {},
   "outputs": [],
   "source": []
  }
 ],
 "metadata": {
  "kernelspec": {
   "display_name": "Python 3",
   "language": "python",
   "name": "python3"
  },
  "language_info": {
   "codemirror_mode": {
    "name": "ipython",
    "version": 3
   },
   "file_extension": ".py",
   "mimetype": "text/x-python",
   "name": "python",
   "nbconvert_exporter": "python",
   "pygments_lexer": "ipython3",
   "version": "3.5.2"
  }
 },
 "nbformat": 4,
 "nbformat_minor": 2
}
